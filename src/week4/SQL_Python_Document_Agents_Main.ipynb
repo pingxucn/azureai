{
 "cells": [
  {
   "cell_type": "code",
   "execution_count": 7,
   "metadata": {},
   "outputs": [
    {
     "name": "stdout",
     "output_type": "stream",
     "text": [
      "\n",
      "\n",
      "\u001b[1m> Entering new AgentExecutor chain...\u001b[0m\n",
      "\u001b[32;1m\u001b[1;3mAction: sql_db_list_tables\n",
      "Action Input: \"\"\u001b[0m\n",
      "Observation: \u001b[38;5;200m\u001b[1;3mAddress, Customer, CustomerAddress, SalesOrderDetail, SalesOrderHeader\u001b[0m\n",
      "Thought:\u001b[32;1m\u001b[1;3mI can query the Address table to get the number of rows and perform a summary analysis.\n",
      "Action: sql_db_query\n",
      "Action Input: \"SELECT COUNT(*) FROM Address\"\u001b[0m\n",
      "Observation: \u001b[36;1m\u001b[1;3m[(450,)]\u001b[0m\n",
      "Thought:\u001b[32;1m\u001b[1;3mThe Address table has 450 rows.\n",
      "Final Answer: There are 450 rows in the Address database.\u001b[0m\n",
      "\n",
      "\u001b[1m> Finished chain.\u001b[0m\n"
     ]
    }
   ],
   "source": [
    "import Sql_python_document_agents\n",
    "import os\n",
    "from dotenv import load_dotenv\n",
    "\n",
    "load_dotenv()\n",
    "\n",
    "sql_agent = Sql_python_document_agents.SqlServer(Server='myfreedbserver-group1.database.windows.net', Database='myFreeDB', \\\n",
    "                                Username='groupuser', Password='openai@Vic',OPENAI_API_KEY=os.getenv('AZURE_OPENAI_KEY'),temperature_Num=0,Model_version='gpt-3.5-turbo',topK=20)\n",
    "\n",
    "\n",
    "Responds=sql_agent.run(\"How many rows in Address database and summary a anaylsis?\")\n"
   ]
  },
  {
   "cell_type": "code",
   "execution_count": 18,
   "metadata": {},
   "outputs": [
    {
     "name": "stdout",
     "output_type": "stream",
     "text": [
      "\n",
      "\n",
      "\u001b[1m> Entering new AgentExecutor chain...\u001b[0m\n",
      "\u001b[32;1m\u001b[1;3m\n",
      "Invoking: `Python_REPL` with `import matplotlib.pyplot as plt\n",
      "import numpy as np\n",
      "from docx import Document\n",
      "\n",
      "# Data\n",
      "data = [450]\n",
      "labels = ['Rows']\n",
      "\n",
      "# Plot\n",
      "fig, ax = plt.subplots()\n",
      "ax.pie(data, labels=labels, autopct='%1.1f%%', startangle=90)\n",
      "ax.axis('equal')\n",
      "\n",
      "# Save the picture\n",
      "plt.savefig('picture_test.png')\n",
      "\n",
      "# Create the document\n",
      "doc = Document()\n",
      "doc.add_paragraph('There are 450 rows in the Address database.')\n",
      "doc.add_picture('picture_test.png')\n",
      "\n",
      "doc.save('test8.docx')\n",
      "`\n",
      "\n",
      "\n",
      "\u001b[0m\u001b[36;1m\u001b[1;3m\u001b[0m\u001b[32;1m\u001b[1;3mI have created the document 'test8.docx' with the sentence \"There are 450 rows in the Address database.\" and the pie chart visualization of the data. The picture has been saved as 'picture_test.png'.\u001b[0m\n",
      "\n",
      "\u001b[1m> Finished chain.\u001b[0m\n"
     ]
    },
    {
     "data": {
      "text/plain": [
       "'I have created the document \\'test8.docx\\' with the sentence \"There are 450 rows in the Address database.\" and the pie chart visualization of the data. The picture has been saved as \\'picture_test.png\\'.'"
      ]
     },
     "execution_count": 18,
     "metadata": {},
     "output_type": "execute_result"
    },
    {
     "data": {
      "image/png": "[encoded data removed]",
      "text/plain": [
       "<Figure size 640x480 with 1 Axes>"
      ]
     },
     "metadata": {},
     "output_type": "display_data"
    }
   ],
   "source": [
    "import Sql_python_document_agents\n",
    "Data=Responds['intermediate_steps'][-1][-1]\n",
    "sentence=Responds['output'] \n",
    "python_agent=Sql_python_document_agents.python_document_server(OPENAI_API_KEY=os.getenv('AZURE_OPENAI_KEY'), temperature_Num=0,Model_version='gpt-3.5-turbo')\n",
    "python_agent.run(\"please create a document with a pie picture to visualize the data %s and also put my sentence %s and the picture inside the word, and then save the word as 'test8.docx' and the picture as 'picture test.png'\"%(Data,sentence))"
   ]
  }
 ],
 "metadata": {
  "kernelspec": {
   "display_name": "azure",
   "language": "python",
   "name": "python3"
  },
  "language_info": {
   "codemirror_mode": {
    "name": "ipython",
    "version": 3
   },
   "file_extension": ".py",
   "mimetype": "text/x-python",
   "name": "python",
   "nbconvert_exporter": "python",
   "pygments_lexer": "ipython3",
   "version": "3.9.18"
  }
 },
 "nbformat": 4,
 "nbformat_minor": 2
}
