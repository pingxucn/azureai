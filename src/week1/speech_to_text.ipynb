{
 "cells": [
  {
   "cell_type": "markdown",
   "metadata": {},
   "source": [
    "Azure AI speech to text \\\n",
    "https://learn.microsoft.com/en-us/azure/ai-services/speech-service/get-started-stt-diarization?tabs=windows&pivots=programming-language-python \\\n",
    "https://github.com/Azure-Samples/cognitive-services-speech-sdk/tree/master"
   ]
  },
  {
   "cell_type": "code",
   "execution_count": 7,
   "metadata": {},
   "outputs": [
    {
     "name": "stdout",
     "output_type": "stream",
     "text": [
      "SessionStarted event\n",
      "TRANSCRIBED:\n",
      "\tText=Preface of a Year with the Saints translated from the Italian by Member of the Order of Mercy. This is a Librivox recording. All Librivox recordings are in the public domain. For more information or to volunteer, please visit librivox.org. Recording by Maria Therese. A Year with the Saints.\n",
      "\tSpeaker ID=Guest-1\n",
      "TRANSCRIBED:\n",
      "\tText=Translators preface.\n",
      "\tSpeaker ID=Guest-1\n",
      "TRANSCRIBED:\n",
      "\tText=And presenting this work for the first time in English dress, the translator would take the opportunity of drawing the attention of the devout American reader to one or two peculiarities in its structure, which have already won for it a wide recognition among readers of books of its class in Europe.\n",
      "\tSpeaker ID=Guest-1\n",
      "TRANSCRIBED:\n",
      "\tText=In the first place, the allotment of separate months to individual virtues agrees well with the practice of self examination, much recommended by many spiritual writers, who advise us to take different virtues in turn as the object of special effort. Nothing certainly could be better fitted to assist us in the acquisition of a virtue than these selections from the writings, the most eminent masters of spiritual science, which portray its beauties, declare its necessity, or explain its various degree in the methods of its attainment.\n",
      "\tSpeaker ID=Guest-1\n",
      "TRANSCRIBED:\n",
      "\tText=In the second place, the few words of exhortation or instruction which opened the reading for each day, are followed by the best of all commentaries, that of action. A great part of the book is composed of examples which, while they have the interest of anecdote, furnished at the same time the strongest proofs of the possibility of carrying out in real life precepts and principles which might otherwise seem too high in heavenly for our everyday existence.\n",
      "\tSpeaker ID=Guest-1\n",
      "TRANSCRIBED:\n",
      "\tText=And the hope, then, that these exotic flowers may flourish and blossom in many an American garden. They are offered to the lovers of spiritual excellence and beauty by the translator.\n",
      "\tSpeaker ID=Guest-1\n",
      "TRANSCRIBED:\n",
      "\tText=And a preface.\n",
      "\tSpeaker ID=Guest-1\n",
      "Canceled event\n",
      "CLOSING on ConversationTranscriptionCanceledEventArgs(session_id=6ced8e4893a147d09a109d4a07db6a10, result=ConversationTranscriptionResult(result_id=c57dd3a9880a4974a646832ab2a98d92, speaker_id=, text=, reason=ResultReason.Canceled))\n",
      "SessionStopped event\n",
      "CLOSING on SessionEventArgs(session_id=6ced8e4893a147d09a109d4a07db6a10)\n"
     ]
    }
   ],
   "source": [
    "# continuous-recognition speech to text\n",
    "import os\n",
    "import time\n",
    "import azure.cognitiveservices.speech as speechsdk\n",
    "\n",
    "def conversation_transcriber_recognition_canceled_cb(evt: speechsdk.SessionEventArgs):\n",
    "    print('Canceled event')\n",
    "\n",
    "def conversation_transcriber_session_stopped_cb(evt: speechsdk.SessionEventArgs):\n",
    "    print('SessionStopped event')\n",
    "\n",
    "def conversation_transcriber_transcribed_cb(evt: speechsdk.SpeechRecognitionEventArgs):\n",
    "    print('TRANSCRIBED:')\n",
    "    if evt.result.reason == speechsdk.ResultReason.RecognizedSpeech:\n",
    "        print('\\tText={}'.format(evt.result.text))\n",
    "        print('\\tSpeaker ID={}'.format(evt.result.speaker_id))\n",
    "        f.write(f'{evt.result.text}\\n')\n",
    "    elif evt.result.reason == speechsdk.ResultReason.NoMatch:\n",
    "        print('\\tNOMATCH: Speech could not be TRANSCRIBED: {}'.format(evt.result.no_match_details))\n",
    "\n",
    "def conversation_transcriber_session_started_cb(evt: speechsdk.SessionEventArgs):\n",
    "    print('SessionStarted event')\n",
    "\n",
    "def recognize_from_file(audio_file_path):\n",
    "    # This example requires environment variables named \"AZURE_SPEECH_KEY\" and \"AZURE_SPEECH_REGION\"\n",
    "    speech_config = speechsdk.SpeechConfig(subscription=os.environ.get('AZURE_SPEECH_KEY'), region=os.environ.get('AZURE_SPEECH_REGION'))\n",
    "    speech_config.speech_recognition_language=\"en-US\"\n",
    "    \n",
    "    audio_config = speechsdk.audio.AudioConfig(filename=audio_file_path)\n",
    "    conversation_transcriber = speechsdk.transcription.ConversationTranscriber(speech_config=speech_config, audio_config=audio_config)\n",
    "\n",
    "    transcribing_stop = False\n",
    "\n",
    "    def stop_cb(evt: speechsdk.SessionEventArgs):\n",
    "        #\"\"\"callback that signals to stop continuous recognition upon receiving an event `evt`\"\"\"\n",
    "        print('CLOSING on {}'.format(evt))\n",
    "        nonlocal transcribing_stop\n",
    "        transcribing_stop = True\n",
    "\n",
    "    # Connect callbacks to the events fired by the conversation transcriber\n",
    "    conversation_transcriber.transcribed.connect(conversation_transcriber_transcribed_cb)\n",
    "    conversation_transcriber.session_started.connect(conversation_transcriber_session_started_cb)\n",
    "    conversation_transcriber.session_stopped.connect(conversation_transcriber_session_stopped_cb)\n",
    "    conversation_transcriber.canceled.connect(conversation_transcriber_recognition_canceled_cb)\n",
    "    # stop transcribing on either session stopped or canceled events\n",
    "    conversation_transcriber.session_stopped.connect(stop_cb)\n",
    "    conversation_transcriber.canceled.connect(stop_cb)\n",
    "\n",
    "    conversation_transcriber.start_transcribing_async()\n",
    "\n",
    "    # Waits for completion.\n",
    "    while not transcribing_stop:\n",
    "        time.sleep(.5)\n",
    "\n",
    "    conversation_transcriber.stop_transcribing_async()\n",
    "\n",
    "# Main\n",
    "if __name__ == \"__main__\":\n",
    "    # audio_file_path = \"..\\\\data\\\\speech\\\\BillGates_2010.wav\" \n",
    "    audio_file_path = \"..\\\\..\\\\data\\\\speech\\\\yearwiththesaints_00_anonymous.wav\" \n",
    "\n",
    "    base_path, _ = os.path.splitext(audio_file_path)\n",
    "    output_file_path = base_path + \".txt\"\n",
    "\n",
    "    f = open(output_file_path, \"w\")\n",
    "\n",
    "    try:\n",
    "        recognize_from_file(audio_file_path)\n",
    "    except Exception as err:\n",
    "        print(\"Encountered exception. {}\".format(err))\n",
    "    finally:\n",
    "        f.close()\n",
    "\n",
    "    "
   ]
  },
  {
   "cell_type": "code",
   "execution_count": 8,
   "metadata": {},
   "outputs": [
    {
     "name": "stdout",
     "output_type": "stream",
     "text": [
      "Summaries abstracted:\n",
      "The document is a preliminary introduction to the English translation of \"A Year with the Saints,\" a book by Maria Therese. The translation, made by a Member of the Order of Mercy, highlights the book's unique structure, which has been well-received in Europe. The book is divided into separate months for individual Virtues, which aligns with the practice of self-examination recommended by spiritual writers. It also includes daily lessons followed by action-oriented examples to illustrate the application of principles in daily life. The translator hopes that this book will be a success in the American spiritual community.\n",
      "\n"
     ]
    }
   ],
   "source": [
    "# using document summarization\n",
    "import os\n",
    "def sample_abstractive_summarization(document) -> None:\n",
    "    # [START abstract_summary]\n",
    "    import os\n",
    "    from azure.core.credentials import AzureKeyCredential\n",
    "    from azure.ai.textanalytics import TextAnalyticsClient\n",
    "\n",
    "    endpoint = os.environ[\"AZURE_LANGUAGE_ENDPOINT\"]\n",
    "    key = os.environ[\"AZURE_LANGUAGE_KEY\"]\n",
    "\n",
    "    text_analytics_client = TextAnalyticsClient(\n",
    "        endpoint=endpoint,\n",
    "        credential=AzureKeyCredential(key),\n",
    "    )\n",
    "\n",
    "    poller = text_analytics_client.begin_abstract_summary(document)\n",
    "    abstract_summary_results = poller.result()\n",
    "    for result in abstract_summary_results:\n",
    "        if result.kind == \"AbstractiveSummarization\":\n",
    "            print(\"Summaries abstracted:\")\n",
    "            [print(f\"{summary.text}\\n\") for summary in result.summaries]\n",
    "        elif result.is_error is True:\n",
    "            print(\"...Is an error with code '{}' and message '{}'\".format(\n",
    "                result.error.code, result.error.message\n",
    "            ))\n",
    "    # [END abstract_summary]\n",
    "\n",
    "\n",
    "if __name__ == \"__main__\":\n",
    "    output_file_path = \"..\\\\..\\\\data\\\\speech\\\\yearwiththesaints_00_anonymous.txt\" \n",
    "    if os.path.exists(output_file_path):\n",
    "        with open(output_file_path, 'r') as file:\n",
    "            lines = [line.strip('\\n') for line in file.readlines()]\n",
    "        separator = ', '\n",
    "        result = [separator.join(lines)]\n",
    "        sample_abstractive_summarization(result)\n",
    "    else:\n",
    "        print(f\"The file '{output_file_path}' does not exist, please execute continuous-recognition speech to text!\")    \n"
   ]
  },
  {
   "cell_type": "markdown",
   "metadata": {},
   "source": [
    "### OpenAI Speech to Text"
   ]
  },
  {
   "cell_type": "code",
   "execution_count": 6,
   "metadata": {},
   "outputs": [
    {
     "name": "stdout",
     "output_type": "stream",
     "text": [
      "transcript: PREFACE OF A YEAR WITH THE SAINTS. In presenting this work for the first time in English dress, the translator would take the opportunity of drawing the attention of the devout American reader to one or two peculiarities in its structure, which have already won for it a wide recognition among readers of books of its class in Europe. In the first place, the allotment of separate months to individual virtues agrees well with the practice of self-examination much recommended by many spiritual writers, who advise us to take different virtues in turn as the object of special effort. Nothing certainly could be better fitted to assist us in the acquisition of a virtue than these selections from the writings of the most eminent masters of spiritual science, which portray its beauties, declare its necessity, or explain its various degree and the methods of its attainment. In the second place, the few words of exhortation or instruction which open the reading for each day are followed by the best of all commentaries, that of action. A great part of the book is composed of examples, which, while they have the interest of anecdote furnish at the same time the strongest proofs of the possibility of carrying out in real life precepts and principles which might otherwise seem too high and heavenly for our everyday existence. In the hope, then, that these exotic flowers may flourish and blossom in many an American garden, they are offered to the lovers of spiritual excellence and beauty by the translator.\n",
      "\n",
      "summary: The translator of the book \"A Year with the Saints\" acknowledges certain peculiarities in its structure that have gained recognition among readers in Europe. Firstly, the book assigns separate virtues to each month, aligning with the practice of self-examination recommended by spiritual writers. This approach helps readers focus on a specific virtue and learn about its significance and how to attain it through selections from the writings of esteemed spiritual masters. Secondly, the book provides a brief exhortation or instruction for each day followed by numerous examples that serve as real-life commentaries, demonstrating that the precepts and principles of spiritual life can be applied in everyday situations. The translator hopes that this book will inspire readers in America to cultivate spiritual excellence and beauty in their lives.\n"
     ]
    }
   ],
   "source": [
    "# step 1 Speech to text\n",
    "from openai import OpenAI\n",
    "client = OpenAI()\n",
    "audio_file_path = \"..\\\\..\\\\data\\\\speech\\\\yearwiththesaints_00_anonymous.wav\" \n",
    "audio_file= open(audio_file_path, \"rb\")\n",
    "transcript = client.audio.transcriptions.create(\n",
    "  model=\"whisper-1\", \n",
    "  file=audio_file,\n",
    "  response_format=\"text\"\n",
    ")\n",
    "\n",
    "print(f\"transcript: {transcript}\")\n",
    "\n",
    "# step 2 Summarize transcript\n",
    "user_prompt = f\"Could you please summarize the transcript ### {transcript} ###\"\n",
    "response = client.chat.completions.create(\n",
    "  model=\"gpt-3.5-turbo\",\n",
    "  messages=[\n",
    "    {\"role\": \"system\", \"content\": \"You are a helpful assistant.\"},\n",
    "    {\"role\": \"user\", \"content\": user_prompt},\n",
    "  ]\n",
    ")\n",
    "\n",
    "print(f\"summary: {response.choices[0].message.content}\")"
   ]
  }
 ],
 "metadata": {
  "kernelspec": {
   "display_name": "venv",
   "language": "python",
   "name": "python3"
  },
  "language_info": {
   "codemirror_mode": {
    "name": "ipython",
    "version": 3
   },
   "file_extension": ".py",
   "mimetype": "text/x-python",
   "name": "python",
   "nbconvert_exporter": "python",
   "pygments_lexer": "ipython3",
   "version": "3.9.18"
  }
 },
 "nbformat": 4,
 "nbformat_minor": 2
}
