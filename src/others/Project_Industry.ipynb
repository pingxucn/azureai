{
 "cells": [
  {
   "cell_type": "code",
   "execution_count": null,
   "id": "7e92aa8d",
   "metadata": {},
   "outputs": [],
   "source": [
    "import os\n",
    "import openai\n",
    "import json\n",
    "# from dotenv import load_dotenv\n",
    "# load_dotenv()"
   ]
  },
  {
   "cell_type": "code",
   "execution_count": null,
   "id": "ab75c259",
   "metadata": {},
   "outputs": [],
   "source": [
    "openai.api_key = os.getenv(\"OPENAI_API_KEY\")"
   ]
  },
  {
   "cell_type": "code",
   "execution_count": null,
   "id": "c1e810b5",
   "metadata": {},
   "outputs": [],
   "source": [
    "def get_completion(prompt, model=\"gpt-3.5-turbo\"):\n",
    "    messages = [{\"role\": \"user\", \"content\": prompt}]\n",
    "    response = openai.ChatCompletion.create(\n",
    "        model=model,\n",
    "        messages=messages,\n",
    "        temperature=0, # a parameter that controls the randomness or creativity of the generated text, examples are 0,1,0.5\n",
    "    )\n",
    "    return response.choices[0].message[\"content\"]"
   ]
  },
  {
   "cell_type": "code",
   "execution_count": null,
   "id": "be01c831",
   "metadata": {},
   "outputs": [],
   "source": [
    "# step 1-get the sector name of the company from ChatGPT\n",
    "\n",
    "prompt=f\"\"\"\n",
    "What is the sector of Walmart according to the Global Industry Classification Standard (GICS)? \\\n",
    "Please provide an answer in less than five words. \n",
    "\"\"\"\n",
    "\n",
    "response=get_completion(prompt)\n",
    "print(response)"
   ]
  },
  {
   "cell_type": "code",
   "execution_count": null,
   "id": "fc49d1f2",
   "metadata": {
    "ExecuteTime": {
     "end_time": "2023-11-27T19:28:25.272974Z",
     "start_time": "2023-11-27T19:28:24.144600Z"
    }
   },
   "outputs": [],
   "source": [
    "# Load the internal industry list\n",
    "\n",
    "import pandas as pd\n",
    "\n",
    "# Load data from local file\n",
    "df_gics = pd.read_excel(\"./Industry.xlsx\")\n",
    "df_gics"
   ]
  },
  {
   "cell_type": "code",
   "execution_count": null,
   "id": "09e24332",
   "metadata": {
    "ExecuteTime": {
     "end_time": "2023-11-27T20:05:44.088217Z",
     "start_time": "2023-11-27T20:05:44.057700Z"
    }
   },
   "outputs": [],
   "source": [
    "# find the decision for a specifi industry\n",
    "\n",
    "response='Auto'\n",
    "\n",
    "if response in df_gics['Sector'].values:\n",
    "    sector_decision = df_gics[df_gics['Sector'] == response]['Decision'].values[0]\n",
    "    if sector_decision==0:\n",
    "        result_dict={0:\"Sector is not qualified for insurance.\"}\n",
    "    else:\n",
    "        result_dict={1:\"Sector is qualified for insurance.\"}\n",
    "else:\n",
    "    result={0:\"Invalid sector.\"}\n",
    "        \n",
    "result_json = json.dumps(result_dict)\n",
    "    \n",
    "print(result_json)\n"
   ]
  },
  {
   "cell_type": "code",
   "execution_count": null,
   "id": "7401d2c2",
   "metadata": {},
   "outputs": [],
   "source": []
  }
 ],
 "metadata": {
  "kernelspec": {
   "display_name": "Python 3 (ipykernel)",
   "language": "python",
   "name": "python3"
  },
  "language_info": {
   "codemirror_mode": {
    "name": "ipython",
    "version": 3
   },
   "file_extension": ".py",
   "mimetype": "text/x-python",
   "name": "python",
   "nbconvert_exporter": "python",
   "pygments_lexer": "ipython3",
   "version": "3.9.18"
  },
  "toc": {
   "base_numbering": 1,
   "nav_menu": {},
   "number_sections": true,
   "sideBar": true,
   "skip_h1_title": false,
   "title_cell": "Table of Contents",
   "title_sidebar": "Contents",
   "toc_cell": false,
   "toc_position": {},
   "toc_section_display": true,
   "toc_window_display": false
  }
 },
 "nbformat": 4,
 "nbformat_minor": 5
}
